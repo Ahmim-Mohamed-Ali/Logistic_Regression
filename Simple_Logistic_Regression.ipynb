{
 "cells": [
  {
   "cell_type": "code",
   "execution_count": 2,
   "id": "b85f41aa-d141-4b90-8b6b-dc525bcf3afe",
   "metadata": {},
   "outputs": [],
   "source": [
    "import math, copy\n",
    "import numpy as np\n",
    "import matplotlib.pyplot as plt"
   ]
  },
  {
   "cell_type": "markdown",
   "id": "0338921f-8576-4611-932c-fbb231b3e093",
   "metadata": {},
   "source": [
    "# DataSet"
   ]
  },
  {
   "cell_type": "code",
   "execution_count": 3,
   "id": "06490bdf-1579-49b2-a188-58119e61493c",
   "metadata": {},
   "outputs": [],
   "source": [
    "X_train = np.array([[0.5, 1.5], [1,1], [1.5, 0.5], [3, 0.5], [2, 2], [1, 2.5]])\n",
    "y_train = np.array([0, 0, 0, 1, 1, 1])"
   ]
  },
  {
   "cell_type": "code",
   "execution_count": 15,
   "id": "aebe702c-0e5e-4ac5-a987-72454730f475",
   "metadata": {},
   "outputs": [],
   "source": [
    "import matplotlib.pyplot as plt\n",
    "\n",
    "def plot_data(X, y, ax):\n",
    "    \"\"\"\n",
    "    Affiche les données sur le graphique.\n",
    "    \n",
    "    Args:\n",
    "        X : ndarray (m, 2) - les données d'entrée avec 2 caractéristiques\n",
    "        y : ndarray (m,) - les étiquettes (0 ou 1)\n",
    "        ax : matplotlib.axes - l'objet d'axes où tracer les données\n",
    "    \"\"\"\n",
    "    # Séparer les exemples positifs et négatifs\n",
    "    pos = y == 1  # les exemples où y=1\n",
    "    neg = y == 0  # les exemples où y=0\n",
    "\n",
    "    # Tracer les exemples positifs avec des \"+\" et les exemples négatifs avec \"o\"\n",
    "    ax.plot(X[pos, 0], X[pos, 1], 'k+', label=\"Classe 1\")\n",
    "    ax.plot(X[neg, 0], X[neg, 1], 'yo', label=\"Classe 0\")\n",
    "    ax.legend()\n",
    "\n"
   ]
  },
  {
   "cell_type": "code",
   "execution_count": 17,
   "id": "d87bb853-89dc-4bdb-9197-175b8f808ae6",
   "metadata": {},
   "outputs": [
    {
     "data": {
      "image/png": "[encoded data removed]",
      "text/plain": [
       "<Figure size 400x400 with 1 Axes>"
      ]
     },
     "metadata": {},
     "output_type": "display_data"
    }
   ],
   "source": [
    "ax.axis([0, 4, 0, 3.5])\n",
    "ax.set_ylabel('$x_1$', fontsize=12)\n",
    "ax.set_xlabel('$x_0$', fontsize=12)\n",
    "fig,ax = plt.subplots(1,1,figsize=(4,4))\n",
    "plot_data(X_train, y_train, ax)"
   ]
  },
  {
   "cell_type": "markdown",
   "id": "8869a8f6-3c9b-4b6d-b9ea-ff89d7e209c2",
   "metadata": {},
   "source": [
    "# Implementation Of Logistic_Regression From Scratch"
   ]
  },
  {
   "cell_type": "code",
   "execution_count": 60,
   "id": "7855f659-f9e3-4dd2-9fc3-d3c21a62fa59",
   "metadata": {},
   "outputs": [],
   "source": [
    "def compute_cost_logistic(X, y, w, b):\n",
    "    m = X.shape[0]\n",
    "    cost = 0.0\n",
    "    for i in range(m):\n",
    "        z_i = np.dot(X[i],w) + b\n",
    "        f_wb_i = sigmoid(z_i)\n",
    "        cost +=  -y[i]*np.log(f_wb_i) - (1-y[i])*np.log(1-f_wb_i)\n",
    "             \n",
    "    cost = cost / m\n",
    "    return cost"
   ]
  },
  {
   "cell_type": "code",
   "execution_count": 31,
   "id": "ba747444-42cf-4da7-8b3a-4cf229f3a0c3",
   "metadata": {},
   "outputs": [],
   "source": [
    "def sigmoid(z):\n",
    "    return 1/(1+np.exp(-z))"
   ]
  },
  {
   "cell_type": "code",
   "execution_count": 61,
   "id": "7dd70946-4d38-463d-80ae-1ed43783daf8",
   "metadata": {},
   "outputs": [],
   "source": [
    "def compute_gradient_logistic(X, y, w, b): \n",
    "    \"\"\"\n",
    "    Calcule Le Gradient pour la Regression logistique\n",
    " \n",
    "    Arguments:\n",
    "      X (tableau (m,n): Data, m examples avec n features\n",
    "      y (tableau (m,)): valeurs à predires\n",
    "      w (tableau (n,)): parametre du modele  \n",
    "      b (scalaire)      : parametre du modele\n",
    "    Retours\n",
    "      dj_dw (tableau (n,)): Le gradient du coût par rapport au paramètre w.\n",
    "      dj_db (scalaire)      : Le gradient du coût par rapport au paramètre b.\n",
    "    \"\"\"\n",
    "    m,n = X.shape\n",
    "    dj_dw=np.zeros((n,))\n",
    "    dj_db=0\n",
    "\n",
    "    for i in range (m):\n",
    "        f_wb_i=sigmoid(np.dot(w,X[i])+b)\n",
    "        err_i=f_wb_i-y[i]\n",
    "        for j in range(n):\n",
    "            dj_dw[j]+=err_i*X[i][j]\n",
    "        dj_db+=err_i\n",
    "    dj_dw/=m\n",
    "    dj_db/=m\n",
    "    return dj_db,dj_dw"
   ]
  },
  {
   "cell_type": "code",
   "execution_count": 50,
   "id": "46fc19e3-6ee6-4ffb-b4d4-6e3278ec22ea",
   "metadata": {},
   "outputs": [
    {
     "name": "stdout",
     "output_type": "stream",
     "text": [
      "dj_db: 0.49861806546328574\n",
      "dj_dw: [0.49833339 0.49883943]\n"
     ]
    }
   ],
   "source": [
    "X_tmp = np.array([[0.5, 1.5], [1,1], [1.5, 0.5], [3, 0.5], [2, 2], [1, 2.5]])\n",
    "y_tmp = np.array([0, 0, 0, 1, 1, 1])\n",
    "w_tmp = np.array([2.,3.])\n",
    "b_tmp = 1.\n",
    "dj_db_tmp, dj_dw_tmp = compute_gradient_logistic(X_tmp, y_tmp, w_tmp, b_tmp)\n",
    "print(f\"dj_db: {dj_db_tmp}\" )\n",
    "print(f\"dj_dw: {dj_dw_tmp}\" )"
   ]
  },
  {
   "cell_type": "code",
   "execution_count": 56,
   "id": "1aacc07d-b5b3-4105-9ddf-83660d48ff81",
   "metadata": {},
   "outputs": [],
   "source": [
    "def gradient_descent(X, y, w_initial, b_initial, alpha, num_iters): \n",
    "    J_history = []\n",
    "    w = copy.deepcopy(w_initial)  \n",
    "    b = b_initial\n",
    "    \n",
    "    for i in range(num_iters):\n",
    "        # Calcule Les Gradient et met à jour les parametres\n",
    "        dj_db, dj_dw = compute_gradient_logistic(X, y, w, b)   \n",
    "\n",
    "        # Update les parametres en utilisant w,b les gradient et alpha\n",
    "        w = w - alpha * dj_dw               \n",
    "        b = b - alpha * dj_db               \n",
    "      \n",
    "        # Sauvegarde le cout J a chaque itérations\n",
    "        if i<100000:     \n",
    "            J_history.append( compute_cost_logistic(X, y, w, b) )\n",
    "\n",
    "        # Affiche toutes les 10 fois à intervalles ou autant d'itérations si <10\n",
    "        if i% math.ceil(num_iters / 10) == 0:\n",
    "            print(f\"Iteration {i:4d}: Cost {J_history[-1]}   \")\n",
    "        \n",
    "    return w, b, J_history"
   ]
  },
  {
   "cell_type": "code",
   "execution_count": 62,
   "id": "781749fc-26a4-4671-bf9b-e45364ab6d38",
   "metadata": {},
   "outputs": [
    {
     "name": "stdout",
     "output_type": "stream",
     "text": [
      "Iteration    0: Cost 0.684610468560574   \n",
      "Iteration 1000: Cost 0.1590977666870457   \n",
      "Iteration 2000: Cost 0.08460064176930078   \n",
      "Iteration 3000: Cost 0.05705327279402531   \n",
      "Iteration 4000: Cost 0.04290759421682   \n",
      "Iteration 5000: Cost 0.03433847729884557   \n",
      "Iteration 6000: Cost 0.02860379802212006   \n",
      "Iteration 7000: Cost 0.02450156960879306   \n",
      "Iteration 8000: Cost 0.02142370332569295   \n",
      "Iteration 9000: Cost 0.019030137124109114   \n",
      "\n",
      "Parameters Mis a jours: w:[5.28123029 5.07815608], b:-14.222409982019837\n"
     ]
    }
   ],
   "source": [
    "w_tmp  = np.zeros_like(X_train[0])\n",
    "b_tmp  = 0.\n",
    "alpha = 0.1\n",
    "iterations = 10000\n",
    "\n",
    "w_out, b_out, _ = gradient_descent(X_train, y_train, w_tmp, b_tmp, alpha, iterations) \n",
    "print(f\"\\nParameters Mis a jours: w:{w_out}, b:{b_out}\")"
   ]
  },
  {
   "cell_type": "code",
   "execution_count": 71,
   "id": "91888849-1d97-4d92-92b6-92e4ceb5935e",
   "metadata": {},
   "outputs": [],
   "source": [
    "# Fonction de prédiction\n",
    "def predict(X, w, b):\n",
    "    \"\"\"\n",
    "    Prédit les étiquettes (0 ou 1) pour les exemples dans X.\n",
    "    \n",
    "    Args:\n",
    "        X : ndarray (m, n) - données d'entrée, m exemples avec n caractéristiques\n",
    "        w : ndarray (n,) - paramètres de poids après entraînement\n",
    "        b : après entraînement\n",
    "        \n",
    "    Returns:\n",
    "        predictions : ndarray (m,) - étiquettes prédites (0 ou 1)\n",
    "    \"\"\"\n",
    "    # Calculer les probabilités pour chaque exemple\n",
    "    z = np.dot(X, w) + b\n",
    "    probs = sigmoid(z)\n",
    "\n",
    "    # Faire des prédictions en utilisant un seuil de 0.5\n",
    "    predictions = probs >= 0.5\n",
    "    \n",
    "    # Convertir les booléens en 0 ou 1\n",
    "    return predictions.astype(int)\n",
    "\n",
    "\n"
   ]
  },
  {
   "cell_type": "code",
   "execution_count": 72,
   "id": "11d3db4b-1dab-40b0-9400-63a1507c0026",
   "metadata": {},
   "outputs": [
    {
     "name": "stdout",
     "output_type": "stream",
     "text": [
      "Prédictions pour les données d'entraînement :\n",
      "[0 0 0 1 1 1]\n",
      "\n",
      "Étiquettes réelles :\n",
      "[0 0 0 1 1 1]\n"
     ]
    }
   ],
   "source": [
    "# Faire des prédictions sur vos données d'entraînement\n",
    "predictions_train = predict(X_train, w_out, b_out)\n",
    "\n",
    "# Afficher les prédictions\n",
    "print(\"Prédictions pour les données d'entraînement :\")\n",
    "print(predictions_train)\n",
    "\n",
    "# Si vous voulez comparer avec les vraies étiquettes\n",
    "print(\"\\nÉtiquettes réelles :\")\n",
    "print(y_train)"
   ]
  },
  {
   "cell_type": "markdown",
   "id": "cf4396e3-b680-4855-b1fa-3f85701008b6",
   "metadata": {},
   "source": [
    "# Utilisations De Scikit Learn "
   ]
  },
  {
   "cell_type": "code",
   "execution_count": 65,
   "id": "6d93327c-b5a1-4046-b67b-e788cc82c1a4",
   "metadata": {},
   "outputs": [
    {
     "data": {
      "text/html": [
       "<style>#sk-container-id-1 {color: black;}#sk-container-id-1 pre{padding: 0;}#sk-container-id-1 div.sk-toggleable {background-color: white;}#sk-container-id-1 label.sk-toggleable__label {cursor: pointer;display: block;width: 100%;margin-bottom: 0;padding: 0.3em;box-sizing: border-box;text-align: center;}#sk-container-id-1 label.sk-toggleable__label-arrow:before {content: \"▸\";float: left;margin-right: 0.25em;color: #696969;}#sk-container-id-1 label.sk-toggleable__label-arrow:hover:before {color: black;}#sk-container-id-1 div.sk-estimator:hover label.sk-toggleable__label-arrow:before {color: black;}#sk-container-id-1 div.sk-toggleable__content {max-height: 0;max-width: 0;overflow: hidden;text-align: left;background-color: #f0f8ff;}#sk-container-id-1 div.sk-toggleable__content pre {margin: 0.2em;color: black;border-radius: 0.25em;background-color: #f0f8ff;}#sk-container-id-1 input.sk-toggleable__control:checked~div.sk-toggleable__content {max-height: 200px;max-width: 100%;overflow: auto;}#sk-container-id-1 input.sk-toggleable__control:checked~label.sk-toggleable__label-arrow:before {content: \"▾\";}#sk-container-id-1 div.sk-estimator input.sk-toggleable__control:checked~label.sk-toggleable__label {background-color: #d4ebff;}#sk-container-id-1 div.sk-label input.sk-toggleable__control:checked~label.sk-toggleable__label {background-color: #d4ebff;}#sk-container-id-1 input.sk-hidden--visually {border: 0;clip: rect(1px 1px 1px 1px);clip: rect(1px, 1px, 1px, 1px);height: 1px;margin: -1px;overflow: hidden;padding: 0;position: absolute;width: 1px;}#sk-container-id-1 div.sk-estimator {font-family: monospace;background-color: #f0f8ff;border: 1px dotted black;border-radius: 0.25em;box-sizing: border-box;margin-bottom: 0.5em;}#sk-container-id-1 div.sk-estimator:hover {background-color: #d4ebff;}#sk-container-id-1 div.sk-parallel-item::after {content: \"\";width: 100%;border-bottom: 1px solid gray;flex-grow: 1;}#sk-container-id-1 div.sk-label:hover label.sk-toggleable__label {background-color: #d4ebff;}#sk-container-id-1 div.sk-serial::before {content: \"\";position: absolute;border-left: 1px solid gray;box-sizing: border-box;top: 0;bottom: 0;left: 50%;z-index: 0;}#sk-container-id-1 div.sk-serial {display: flex;flex-direction: column;align-items: center;background-color: white;padding-right: 0.2em;padding-left: 0.2em;position: relative;}#sk-container-id-1 div.sk-item {position: relative;z-index: 1;}#sk-container-id-1 div.sk-parallel {display: flex;align-items: stretch;justify-content: center;background-color: white;position: relative;}#sk-container-id-1 div.sk-item::before, #sk-container-id-1 div.sk-parallel-item::before {content: \"\";position: absolute;border-left: 1px solid gray;box-sizing: border-box;top: 0;bottom: 0;left: 50%;z-index: -1;}#sk-container-id-1 div.sk-parallel-item {display: flex;flex-direction: column;z-index: 1;position: relative;background-color: white;}#sk-container-id-1 div.sk-parallel-item:first-child::after {align-self: flex-end;width: 50%;}#sk-container-id-1 div.sk-parallel-item:last-child::after {align-self: flex-start;width: 50%;}#sk-container-id-1 div.sk-parallel-item:only-child::after {width: 0;}#sk-container-id-1 div.sk-dashed-wrapped {border: 1px dashed gray;margin: 0 0.4em 0.5em 0.4em;box-sizing: border-box;padding-bottom: 0.4em;background-color: white;}#sk-container-id-1 div.sk-label label {font-family: monospace;font-weight: bold;display: inline-block;line-height: 1.2em;}#sk-container-id-1 div.sk-label-container {text-align: center;}#sk-container-id-1 div.sk-container {/* jupyter's `normalize.less` sets `[hidden] { display: none; }` but bootstrap.min.css set `[hidden] { display: none !important; }` so we also need the `!important` here to be able to override the default hidden behavior on the sphinx rendered scikit-learn.org. See: https://github.com/scikit-learn/scikit-learn/issues/21755 */display: inline-block !important;position: relative;}#sk-container-id-1 div.sk-text-repr-fallback {display: none;}</style><div id=\"sk-container-id-1\" class=\"sk-top-container\"><div class=\"sk-text-repr-fallback\"><pre>LogisticRegression()</pre><b>In a Jupyter environment, please rerun this cell to show the HTML representation or trust the notebook. <br />On GitHub, the HTML representation is unable to render, please try loading this page with nbviewer.org.</b></div><div class=\"sk-container\" hidden><div class=\"sk-item\"><div class=\"sk-estimator sk-toggleable\"><input class=\"sk-toggleable__control sk-hidden--visually\" id=\"sk-estimator-id-1\" type=\"checkbox\" checked><label for=\"sk-estimator-id-1\" class=\"sk-toggleable__label sk-toggleable__label-arrow\">LogisticRegression</label><div class=\"sk-toggleable__content\"><pre>LogisticRegression()</pre></div></div></div></div></div>"
      ],
      "text/plain": [
       "LogisticRegression()"
      ]
     },
     "execution_count": 65,
     "metadata": {},
     "output_type": "execute_result"
    }
   ],
   "source": [
    "from sklearn.linear_model import LogisticRegression\n",
    "\n",
    "lr_model = LogisticRegression()\n",
    "lr_model.fit(X_train, y_train)"
   ]
  },
  {
   "cell_type": "code",
   "execution_count": 67,
   "id": "e6bdc667-5277-46a8-be7b-0b32608221a6",
   "metadata": {},
   "outputs": [
    {
     "name": "stdout",
     "output_type": "stream",
     "text": [
      "Prediction on training set: [0 0 0 1 1 1]\n"
     ]
    }
   ],
   "source": [
    "y_pred = lr_model.predict(X_train)\n",
    "\n",
    "print(\"Prediction on training set:\", y_pred)"
   ]
  },
  {
   "cell_type": "code",
   "execution_count": 70,
   "id": "ea0981d5-c86b-4c4f-bd17-344ff780098e",
   "metadata": {},
   "outputs": [
    {
     "name": "stdout",
     "output_type": "stream",
     "text": [
      "Accuracy on training set: 1.0\n"
     ]
    }
   ],
   "source": [
    "print(\"Accuracy on training set:\", lr_model.score(X_train, y_train))"
   ]
  },
  {
   "cell_type": "code",
   "execution_count": null,
   "id": "ff66b9d0-2433-4085-8586-ed2921b46157",
   "metadata": {},
   "outputs": [],
   "source": []
  }
 ],
 "metadata": {
  "kernelspec": {
   "display_name": "Python 3 (ipykernel)",
   "language": "python",
   "name": "python3"
  },
  "language_info": {
   "codemirror_mode": {
    "name": "ipython",
    "version": 3
   },
   "file_extension": ".py",
   "mimetype": "text/x-python",
   "name": "python",
   "nbconvert_exporter": "python",
   "pygments_lexer": "ipython3",
   "version": "3.11.7"
  }
 },
 "nbformat": 4,
 "nbformat_minor": 5
}
